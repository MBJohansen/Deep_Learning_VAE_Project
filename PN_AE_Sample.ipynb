{
 "cells": [
  {
   "cell_type": "code",
   "execution_count": 1,
   "metadata": {},
   "outputs": [],
   "source": [
    "import matplotlib\n",
    "import matplotlib.pyplot as plt\n",
    "from IPython.display import Image, display, clear_output\n",
    "import numpy as np\n",
    "%matplotlib nbagg\n",
    "%matplotlib inline\n",
    "import seaborn as sns\n",
    "sns.set_style(\"whitegrid\")\n",
    "sns.set_palette(sns.dark_palette(\"purple\"))\n",
    "\n",
    "import torch\n",
    "iscuda = torch.cuda.is_available()\n",
    "\n",
    "from torch.utils.data import DataLoader\n",
    "from torch.utils.data.sampler import SubsetRandomSampler\n",
    "from torchvision.transforms import ToTensor\n",
    "from functools import reduce\n",
    "import pandas as pd\n",
    "from nltk import sent_tokenize, word_tokenize\n",
    "from torch.nn.utils.rnn import pad_sequence\n",
    "\n",
    "import io"
   ]
  },
  {
   "cell_type": "code",
   "execution_count": 2,
   "metadata": {},
   "outputs": [],
   "source": [
    "BATCH_SIZE = 32\n",
    "BUFFER_SIZE = 10000"
   ]
  },
  {
   "cell_type": "code",
   "execution_count": 3,
   "metadata": {},
   "outputs": [],
   "source": [
    "p1 = io.open(\"Data\\PoE\\4ggNLmuc.txt\",\"r\", encoding='utf8').read()\n",
    "p2 = io.open(\"Data\\PoE\\pathofexile_3.8_patch_notes.txt\",\"r\",encoding='utf8').read()\n",
    "p3 = io.open(\"Data\\PoE\\poe_3.7_patch_notes.txt\",\"r\", encoding='utf8').read()\n",
    "\n",
    "dataset = p1.split(\"\\n\") + p2.split(\"\\n\") + p3.split(\"\\n\")"
   ]
  },
  {
   "cell_type": "code",
   "execution_count": 4,
   "metadata": {},
   "outputs": [],
   "source": [
    "sentences = []\n",
    "for d in dataset:\n",
    "    test = word_tokenize(d)\n",
    "\n",
    "    full_sent = ' '.join(test)\n",
    "    token_sent = sent_tokenize(full_sent)\n",
    "\n",
    "    sentences = sentences + token_sent"
   ]
  },
  {
   "cell_type": "code",
   "execution_count": 5,
   "metadata": {},
   "outputs": [],
   "source": [
    "sequences = []\n",
    "for d in sentences:\n",
    "    words = d.split(' ')\n",
    "    sequences.extend(words)\n"
   ]
  },
  {
   "cell_type": "code",
   "execution_count": 6,
   "metadata": {},
   "outputs": [
    {
     "data": {
      "text/plain": [
       "58"
      ]
     },
     "execution_count": 6,
     "metadata": {},
     "output_type": "execute_result"
    }
   ],
   "source": [
    "flatten = lambda l: [item for sublist in l for item in sublist]\n",
    "    \n",
    "# Flatten the dataset\n",
    "all_words = flatten(sequences)\n",
    "\n",
    "\n",
    "testSet = set()\n",
    "for x in all_words:\n",
    "    testSet.add(x.lower())\n",
    "\n",
    "testSet.add(' ')\n",
    "testSet.add('\\\"')\n",
    "testSet.add('UNK')\n",
    "    \n",
    "len(testSet)"
   ]
  },
  {
   "cell_type": "code",
   "execution_count": 7,
   "metadata": {},
   "outputs": [],
   "source": [
    "every_word = set()\n",
    "\n",
    "for word in sequences:\n",
    "    every_word.add(word.lower())\n"
   ]
  },
  {
   "cell_type": "code",
   "execution_count": 8,
   "metadata": {},
   "outputs": [
    {
     "data": {
      "text/plain": [
       "3872"
      ]
     },
     "execution_count": 8,
     "metadata": {},
     "output_type": "execute_result"
    }
   ],
   "source": [
    "len(every_word)"
   ]
  },
  {
   "cell_type": "code",
   "execution_count": 9,
   "metadata": {},
   "outputs": [
    {
     "name": "stdout",
     "output_type": "stream",
     "text": [
      "We have 48075 sentences and 3873 unique tokens in our dataset (including UNK).\n",
      "\n",
      "The index of 'the' is 3418\n",
      "The word corresponding to index 1 is 'skewering'\n"
     ]
    }
   ],
   "source": [
    "from collections import defaultdict\n",
    "\n",
    "# This was based on the course work\n",
    "\n",
    "def sequences_to_dicts(sequences):\n",
    "    \"\"\"\n",
    "    Creates word_to_idx and idx_to_word dictionaries for a list of sequences.\n",
    "    \"\"\"\n",
    "     \n",
    "    \n",
    "    # A bit of Python-magic to flatten a nested list\n",
    "    flatten = lambda l: [item for sublist in l for item in sublist]\n",
    "    \n",
    "    # Flatten the dataset\n",
    "    all_words = flatten(sequences)\n",
    "    \n",
    "    # Count number of word occurences\n",
    "    word_count = defaultdict(int)\n",
    "    for word in flatten(sequences):\n",
    "        word_count[word] += 1\n",
    "\n",
    "    # Sort by frequency\n",
    "    word_count = sorted(list(word_count.items()), key=lambda l: -l[1])\n",
    "\n",
    "    # Create a list of all unique words\n",
    "    unique_words = [item[0] for item in word_count]\n",
    "    \n",
    "    # Add UNK token to list of words\n",
    "    unique_words.append('UNK')\n",
    "\n",
    "    unique_words.append(' ')\n",
    "    unique_words.append('\\\"')\n",
    "\n",
    "    every_word = set()\n",
    "\n",
    "    for word in sequences:\n",
    "        every_word.add(word.lower())\n",
    "    \n",
    "    every_word.add('UNK')\n",
    "\n",
    "    unique_words = every_word\n",
    "    \n",
    "    # Count number of sequences and number of unique words\n",
    "    num_sentences, vocab_size = len(sequences), len(unique_words)\n",
    "\n",
    "    # Create dictionaries so that we can go from word to index and back\n",
    "    # If a word is not in our vocabulary, we assign it to token 'UNK'\n",
    "    word_to_idx = defaultdict(lambda: num_sentences)\n",
    "    idx_to_word = defaultdict(lambda: 'UNK')\n",
    "\n",
    "    # Fill dictionaries\n",
    "    for idx, word in enumerate(unique_words):\n",
    "        word_to_idx[word] = idx \n",
    "        idx_to_word[idx] = word\n",
    "\n",
    "    return word_to_idx, idx_to_word, num_sentences, vocab_size\n",
    "\n",
    "\n",
    "word_to_idx, idx_to_word, num_sequences, vocab_size = sequences_to_dicts(sequences)\n",
    "\n",
    "print(f'We have {num_sequences} sentences and {len(word_to_idx)} unique tokens in our dataset (including UNK).\\n')\n",
    "print('The index of \\'the\\' is', word_to_idx['the'])\n",
    "print(f'The word corresponding to index 1 is \\'{idx_to_word[1]}\\'')"
   ]
  },
  {
   "cell_type": "code",
   "execution_count": 10,
   "metadata": {},
   "outputs": [],
   "source": [
    "text_as_int = np.array([word_to_idx[c] for c in all_words])"
   ]
  },
  {
   "cell_type": "code",
   "execution_count": 11,
   "metadata": {},
   "outputs": [],
   "source": [
    "from torch.utils import data\n",
    "import random\n",
    "\n",
    "\n",
    "class Dataset(data.Dataset):\n",
    "    def __init__(self, inputs, targets):\n",
    "        self.inputs = inputs\n",
    "        self.targets = targets\n",
    "\n",
    "    def __len__(self):\n",
    "        # Return the size of the dataset\n",
    "        return len(self.targets)\n",
    "\n",
    "    def __getitem__(self, index):\n",
    "        # Retrieve inputs and targets at the given index\n",
    "        X = self.inputs[index]\n",
    "        y = self.targets[index]\n",
    "\n",
    "        return X, y\n",
    "\n",
    "    \n",
    "def create_datasets(sequences, dataset_class, p_train=0.8, p_val=0.1, p_test=0.1):\n",
    "    # Define partition sizes\n",
    "    num_train = int(len(sequences)*p_train)\n",
    "    num_val = int(len(sequences)*p_val)\n",
    "    num_test = int(len(sequences)*p_test)\n",
    "\n",
    "    random_sequence = sequences\n",
    "    random.shuffle(random_sequence)\n",
    "    \n",
    "    # Split sequences into partitions\n",
    "    sequences_train = random_sequence[:num_train]\n",
    "    sequences_val = random_sequence[num_train:num_train+num_val]\n",
    "    sequences_test = random_sequence[-num_test:]\n",
    "\n",
    "    def get_inputs_targets_from_sequences(sequences):\n",
    "        # Define empty lists\n",
    "        inputs, targets = [], []\n",
    "        \n",
    "        # Append inputs and targets s.t. both lists contain L-1 words of a sentence of length L\n",
    "        # but targets are shifted right by one so that we can predict the next word\n",
    "        \n",
    "        for sequence in sequences:\n",
    "            sequence = sequence.lower()\n",
    "            sequence_list = sequence.split(' ')\n",
    "            if len(sequence_list) < 2:\n",
    "                continue\n",
    "            \n",
    "            inputs.append(sequence_list[:-1])\n",
    "            targets.append(sequence_list[1:])\n",
    "            \n",
    "        return inputs, targets\n",
    "\n",
    "    # Get inputs and targets for each partition\n",
    "    inputs_train, targets_train = get_inputs_targets_from_sequences(sequences_train)\n",
    "    inputs_val, targets_val = get_inputs_targets_from_sequences(sequences_val)\n",
    "    inputs_test, targets_test = get_inputs_targets_from_sequences(sequences_test)\n",
    "\n",
    "    # Create datasets\n",
    "    training_set = dataset_class(inputs_train, targets_train)\n",
    "    validation_set = dataset_class(inputs_val, targets_val)\n",
    "    test_set = dataset_class(inputs_test, targets_test)\n",
    "\n",
    "    return training_set, validation_set, test_set"
   ]
  },
  {
   "cell_type": "code",
   "execution_count": 12,
   "metadata": {},
   "outputs": [
    {
     "name": "stdout",
     "output_type": "stream",
     "text": [
      "We have 2217 samples in the training set.\n",
      "We have 283 samples in the validation set.\n",
      "We have 282 samples in the test set.\n"
     ]
    }
   ],
   "source": [
    "training_set, validation_set, test_set = create_datasets(sentences, Dataset)\n",
    "\n",
    "print(f'We have {len(training_set)} samples in the training set.')\n",
    "print(f'We have {len(validation_set)} samples in the validation set.')\n",
    "print(f'We have {len(test_set)} samples in the test set.')"
   ]
  },
  {
   "cell_type": "code",
   "execution_count": 13,
   "metadata": {},
   "outputs": [
    {
     "name": "stdout",
     "output_type": "stream",
     "text": [
      "Net(\n",
      "  (lstm): LSTM(3873, 968)\n",
      "  (l_out): Linear(in_features=968, out_features=3873, bias=False)\n",
      ")\n"
     ]
    }
   ],
   "source": [
    "import torch\n",
    "import torch.nn as nn\n",
    "import torch.nn.functional as F\n",
    "\n",
    "hidden_dim = int(vocab_size/4)\n",
    "\n",
    "class Net(nn.Module):\n",
    "    def __init__(self):\n",
    "        super(Net, self).__init__()\n",
    "        \n",
    "        # LSTM layer\n",
    "        self.lstm = nn.LSTM(input_size=vocab_size, hidden_size=hidden_dim) \n",
    "        \n",
    "        # Output layer\n",
    "        self.l_out = nn.Linear(in_features=hidden_dim,\n",
    "                            out_features=vocab_size,\n",
    "                            bias=False)\n",
    "        \n",
    "    def forward(self, x):\n",
    "        x, (h, c) = self.lstm(x)\n",
    "        \n",
    "        # Flatten output for feed-forward layer\n",
    "        x = x.view(-1, self.lstm.hidden_size)\n",
    "        \n",
    "        # Output layer\n",
    "        x = self.l_out(x)\n",
    "        \n",
    "        return x\n",
    "\n",
    "net = Net()\n",
    "print(net)"
   ]
  },
  {
   "cell_type": "code",
   "execution_count": 14,
   "metadata": {},
   "outputs": [
    {
     "name": "stdout",
     "output_type": "stream",
     "text": [
      "Our one-hot encoding of 'the' has shape (3873,).\n",
      "[0. 0. 0. ... 0. 0. 0.]\n",
      "Our one-hot encoding of 'a b' has shape (12, 3873, 1).\n"
     ]
    }
   ],
   "source": [
    "def one_hot_encode(idx, vocab_size):\n",
    "    \"\"\"\n",
    "    One-hot encodes a single word given its index and the size of the vocabulary.\n",
    "    \n",
    "    Args:\n",
    "     `idx`: the index of the given word\n",
    "     `vocab_size`: the size of the vocabulary\n",
    "    \n",
    "    Returns a 1-D numpy array of length `vocab_size`.\n",
    "    \"\"\"\n",
    "    # Initialize the encoded array\n",
    "    one_hot = np.zeros(vocab_size)\n",
    "    \n",
    "    # Set the appropriate element to one\n",
    "    one_hot[idx] = 1.0\n",
    "\n",
    "    return one_hot\n",
    "\n",
    "\n",
    "def one_hot_encode_sequence(sequence, vocab_size):\n",
    "    \"\"\"\n",
    "    One-hot encodes a sequence of words given a fixed vocabulary size.\n",
    "    \n",
    "    Args:\n",
    "     `sentence`: a list of words to encode\n",
    "     `vocab_size`: the size of the vocabulary\n",
    "     \n",
    "    Returns a 3-D numpy array of shape (num words, vocab size, 1).\n",
    "    \"\"\"\n",
    "    \n",
    "    # Encode each word in the sentence\n",
    "    encoding = np.array([one_hot_encode(word_to_idx[word.lower()], vocab_size) for word in sequence])\n",
    "\n",
    "    # Reshape encoding s.t. it has shape (num words, vocab size, 1)\n",
    "    encoding = encoding.reshape(encoding.shape[0], encoding.shape[1], 1)\n",
    "    \n",
    "    return encoding\n",
    "\n",
    "\n",
    "test_word = one_hot_encode(word_to_idx['the'], vocab_size)\n",
    "print(f'Our one-hot encoding of \\'the\\' has shape {test_word.shape}.')\n",
    "print(test_word)\n",
    "\n",
    "test_sentence = one_hot_encode_sequence(['now', 'has', '20', 'chance', 'for', 'the', 'non-primary', 'projectiles', 'to', 'impale', 'enemies', 'on'], vocab_size)\n",
    "print(f'Our one-hot encoding of \\'a b\\' has shape {test_sentence.shape}.')"
   ]
  },
  {
   "cell_type": "code",
   "execution_count": 15,
   "metadata": {},
   "outputs": [
    {
     "name": "stdout",
     "output_type": "stream",
     "text": [
      "['the', 'radius', 'of', 'the', 'explosions', 'has', 'been', 'reduced', 'from', '18', 'to', '16', 'and', 'the', 'explosions', 'now', 'have', 'a', '20', '%', 'variance', 'in', 'area', 'of', 'effect']\n",
      "Our one-hot encoding of  has shape (25, 3873, 1).\n"
     ]
    }
   ],
   "source": [
    "testSeq = training_set.inputs[12]\n",
    "print(testSeq)\n",
    "test_sentence = one_hot_encode_sequence(testSeq, vocab_size)\n",
    "print(f'Our one-hot encoding of  has shape {test_sentence.shape}.')\n"
   ]
  },
  {
   "cell_type": "code",
   "execution_count": 16,
   "metadata": {},
   "outputs": [],
   "source": [
    "net = Net()\n"
   ]
  },
  {
   "cell_type": "code",
   "execution_count": 17,
   "metadata": {},
   "outputs": [],
   "source": [
    "net = net.cuda()"
   ]
  },
  {
   "cell_type": "code",
   "execution_count": 18,
   "metadata": {},
   "outputs": [
    {
     "name": "stdout",
     "output_type": "stream",
     "text": [
      "Epoch 0, training loss: 5.1251737878741475, validation loss: 8.261446022734626\n",
      "Epoch 5, training loss: 1.2933734369795664, validation loss: 4.3567371635538175\n",
      "Epoch 10, training loss: 0.6894760324619605, validation loss: 4.613604761624722\n",
      "Epoch 15, training loss: 0.4598108694876863, validation loss: 4.874066871482313\n",
      "Epoch 20, training loss: 0.3744234936499073, validation loss: 4.861380245229381\n",
      "Epoch 25, training loss: 0.3501234817346419, validation loss: 5.010097397669044\n",
      "Epoch 30, training loss: 0.31467748562630304, validation loss: 5.1470649909849655\n"
     ]
    }
   ],
   "source": [
    "num_epochs = 35\n",
    "\n",
    "\n",
    "# Define a loss function and optimizer\n",
    "criterion = nn.CrossEntropyLoss()\n",
    "optimizer = torch.optim.Adam(net.parameters(), lr=0.005)\n",
    "\n",
    "# Track loss\n",
    "training_loss, validation_loss = [], []\n",
    "\n",
    "# For each epoch\n",
    "for i in range(num_epochs):\n",
    "    \n",
    "    # Track loss\n",
    "    epoch_training_loss = 0\n",
    "    epoch_validation_loss = 0\n",
    "    \n",
    "    net.eval()\n",
    "        \n",
    "    # For each sentence in validation set\n",
    "    for inputs, targets in validation_set:\n",
    "        \n",
    "        # One-hot encode input and target sequence\n",
    "        inputs_one_hot = one_hot_encode_sequence(inputs, vocab_size)\n",
    "        targets_idx = [word_to_idx[word] for word in targets]\n",
    "        \n",
    "        # Convert input to tensor\n",
    "        inputs_one_hot = torch.Tensor(inputs_one_hot).cuda()\n",
    "        inputs_one_hot = inputs_one_hot.permute(0, 2, 1)\n",
    "        \n",
    "        \n",
    "        \n",
    "        \n",
    "        # Convert target to tensor\n",
    "        targets_idx = torch.LongTensor(targets_idx).cuda()\n",
    "        \n",
    "\n",
    "\n",
    "        # Forward pass\n",
    "        outputs = net.forward(inputs_one_hot)\n",
    "\n",
    "        \n",
    "        # Compute loss\n",
    "        loss = criterion(outputs, targets_idx)\n",
    "        \n",
    "        # Update loss\n",
    "        epoch_validation_loss += loss.detach().cpu().numpy()\n",
    "\n",
    "    net.train()\n",
    "    \n",
    "    # For each sentence in training set\n",
    "    for inputs, targets in training_set:\n",
    "        \n",
    "        # One-hot encode input and target sequence\n",
    "        inputs_one_hot = one_hot_encode_sequence(inputs, vocab_size)\n",
    "        targets_idx = [word_to_idx[word] for word in targets]\n",
    "        \n",
    "        # Convert input to tensor\n",
    "        inputs_one_hot = torch.Tensor(inputs_one_hot).cuda()\n",
    "        inputs_one_hot = inputs_one_hot.permute(0, 2, 1)\n",
    "        \n",
    "        # Convert target to tensor\n",
    "        targets_idx = torch.LongTensor(targets_idx).cuda()\n",
    "        \n",
    "        # Forward pass\n",
    "        outputs = net.forward(inputs_one_hot) \n",
    "        \n",
    "        # Compute loss\n",
    "        loss = criterion(outputs, targets_idx)\n",
    "        \n",
    "        # Backward pass\n",
    "        # zero grad, backward, step...\n",
    "        \n",
    "        optimizer.zero_grad()\n",
    "        loss.backward() \n",
    "        \n",
    "        _ = torch.nn.utils.clip_grad_norm_(\n",
    "                net.parameters(), 5)\n",
    "        \n",
    "        optimizer.step()\n",
    "        \n",
    "        # Update loss\n",
    "        epoch_training_loss += loss.detach().cpu().numpy()\n",
    "        \n",
    "    # Save loss for plot\n",
    "    training_loss.append(epoch_training_loss/len(training_set))\n",
    "    validation_loss.append(epoch_validation_loss/len(validation_set))\n",
    "\n",
    "    # Print loss every 5 epochs\n",
    "    if i % 5 == 0:\n",
    "        print(f'Epoch {i}, training loss: {training_loss[-1]}, validation loss: {validation_loss[-1]}')\n",
    "\n",
    "        "
   ]
  },
  {
   "cell_type": "code",
   "execution_count": 19,
   "metadata": {},
   "outputs": [
    {
     "data": {
      "image/png": "[encoded data removed]",
      "text/plain": [
       "<Figure size 432x288 with 1 Axes>"
      ]
     },
     "metadata": {
      "needs_background": "light"
     },
     "output_type": "display_data"
    }
   ],
   "source": [
    "# Get first sentence in test set\n",
    "inputs, targets = test_set[1]\n",
    "\n",
    "# One-hot encode input and target sequence\n",
    "inputs_one_hot = one_hot_encode_sequence(inputs, vocab_size)\n",
    "targets_idx = [word_to_idx[word] for word in targets]\n",
    "\n",
    "# Convert input to tensor\n",
    "inputs_one_hot = torch.Tensor(inputs_one_hot).cuda()\n",
    "inputs_one_hot = inputs_one_hot.permute(0, 2, 1)\n",
    "\n",
    "# Convert target to tensor\n",
    "targets_idx = torch.LongTensor(targets_idx).cuda()\n",
    "\n",
    "# Forward pass\n",
    "outputs = net.forward(inputs_one_hot).data.cpu().numpy()\n",
    "\n",
    "\n",
    "# Plot training and validation loss\n",
    "epoch = np.arange(len(training_loss))\n",
    "plt.figure()\n",
    "plt.plot(epoch, training_loss, 'r', label='Training loss',)\n",
    "plt.plot(epoch, validation_loss, 'b', label='Validation loss')\n",
    "plt.legend()\n",
    "plt.xlabel('Epoch'), plt.ylabel('NLL')\n",
    "plt.show()"
   ]
  },
  {
   "cell_type": "code",
   "execution_count": 20,
   "metadata": {},
   "outputs": [
    {
     "name": "stdout",
     "output_type": "stream",
     "text": [
      "\n",
      "Input sequence:\n",
      "shares its cooldown with other guard skills ( steelskin and immortal call )\n",
      "\n",
      "Target sequence:\n",
      "its cooldown with other guard skills ( steelskin and immortal call ) .\n",
      "\n",
      "Predicted sequence:\n",
      "its cooldown with other guard skills ( steelskin and molten call ) .\n"
     ]
    }
   ],
   "source": [
    "inputs, targets = training_set[50]\n",
    "inputs_one_hot = one_hot_encode_sequence(inputs, vocab_size)\n",
    "targets_idx = [word_to_idx[word] for word in targets]\n",
    "\n",
    "# Convert input to tensor\n",
    "inputs_one_hot = torch.Tensor(inputs_one_hot).cuda()\n",
    "inputs_one_hot = inputs_one_hot.permute(0, 2, 1)\n",
    "\n",
    "# Convert target to tensor\n",
    "targets_idx = torch.LongTensor(targets_idx).cuda()\n",
    "\n",
    "# Forward pass\n",
    "outputs = net.forward(inputs_one_hot).data.cpu().numpy()\n",
    "\n",
    "inputstr = ' '.join(inputs)\n",
    "\n",
    "targetstr = ' '.join(targets)\n",
    "\n",
    "predictedSeq = [idx_to_word[np.argmax(output)] for output in outputs]\n",
    "teststr = ' '.join(predictedSeq)\n",
    "\n",
    "print('\\nInput sequence:')\n",
    "print(inputstr)\n",
    "\n",
    "print('\\nTarget sequence:')\n",
    "print(targetstr)\n",
    "\n",
    "print('\\nPredicted sequence:')\n",
    "print(teststr)"
   ]
  },
  {
   "cell_type": "code",
   "execution_count": 30,
   "metadata": {},
   "outputs": [
    {
     "name": "stdout",
     "output_type": "stream",
     "text": [
      "elemental overload now causes ailments to never count as being from critical strikes ( previously caused ailments from critical strikes to have no damage multiplier ) . poison at gem level\n"
     ]
    }
   ],
   "source": [
    "count = 0\n",
    "\n",
    "full_story = 'elemental'\n",
    "phrase = [full_story]\n",
    "\n",
    "while count < 30:\n",
    "    net.eval()\n",
    "    inputs = phrase\n",
    "    \n",
    "    inputs_one_hot = one_hot_encode_sequence(inputs, vocab_size)\n",
    "\n",
    "    # Convert input to tensor\n",
    "    inputs_one_hot = torch.Tensor(inputs_one_hot).cuda()\n",
    "    inputs_one_hot = inputs_one_hot.permute(0, 2, 1)\n",
    "\n",
    "\n",
    "    outputs = net.forward(inputs_one_hot).data.cpu().numpy()\n",
    "        \n",
    "    next_word = outputs[-1]\n",
    "    \n",
    "    floor = min(next_word)\n",
    "    next_word = [x - floor for x in next_word]\n",
    "    next_word /= sum(next_word)\n",
    "    count+=1\n",
    "    \n",
    "    word_index = np.argmax(next_word)\n",
    "    \n",
    "    \n",
    "    predictedSeq = idx_to_word[word_index]\n",
    "    \n",
    "    \n",
    "    teststr = ' '.join(predictedSeq)\n",
    "    full_story += ' ' + predictedSeq\n",
    "    phrase = full_story.split(' ')\n",
    "\n",
    "print(full_story)"
   ]
  },
  {
   "cell_type": "code",
   "execution_count": null,
   "metadata": {},
   "outputs": [],
   "source": []
  },
  {
   "cell_type": "code",
   "execution_count": null,
   "metadata": {},
   "outputs": [],
   "source": []
  }
 ],
 "metadata": {
  "kernelspec": {
   "display_name": "Python 3",
   "language": "python",
   "name": "python3"
  },
  "language_info": {
   "codemirror_mode": {
    "name": "ipython",
    "version": 3
   },
   "file_extension": ".py",
   "mimetype": "text/x-python",
   "name": "python",
   "nbconvert_exporter": "python",
   "pygments_lexer": "ipython3",
   "version": "3.7.3"
  }
 },
 "nbformat": 4,
 "nbformat_minor": 2
}
